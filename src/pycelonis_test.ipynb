{
 "cells": [
  {
   "cell_type": "code",
   "execution_count": null,
   "id": "7eb78337",
   "metadata": {},
   "outputs": [],
   "source": [
    "import pandas as pd"
   ]
  },
  {
   "cell_type": "code",
   "execution_count": null,
   "id": "9e05f614",
   "metadata": {},
   "outputs": [],
   "source": [
    "from pycelonis import get_celonis\n",
    "# from pycelonis import utils\n",
    "from pprint import pprint\n",
    "\n",
    "EMS_API_TOKEN_FILE = \"../ems_apikey\"\n",
    "DATA_POOL_ID = \"3f9e0c7b-a9d5-4e51-a322-b38e6b10d8b1\"\n",
    "DATA_MODEL_IDS = {\n",
    "    \"accounts_payable\": \"77da2001-dcf7-4699-b5d3-ce89dc2234d3\",\n",
    "    \"accounts_receivable\": \"524481f7-ed83-4f3b-8452-a6e7897afacb\",\n",
    "    \"inventory_management\": \"a1cd3a04-fbec-4e6e-9fec-65c2fc79ed77\",\n",
    "    \"order_management\": \"213ab550-b1cf-4abc-ad05-23be6a2fd1b8\",\n",
    "    \"procurement\": \"535e9505-0662-432c-b18a-af07edb6137d\"\n",
    "}\n",
    "\n",
    "celonis = get_celonis(\n",
    "    base_url=\"https://pads-x-celonis-group-1.try.celonis.cloud/\",\n",
    "    api_token=open(EMS_API_TOKEN_FILE).read(),\n",
    "    key_type=\"APP_KEY\"\n",
    ")\n",
    "\n",
    "data_pool = celonis.data_integration.get_data_pool(DATA_POOL_ID)"
   ]
  },
  {
   "cell_type": "code",
   "execution_count": null,
   "id": "2b8d7c62",
   "metadata": {
    "scrolled": true
   },
   "outputs": [],
   "source": [
    "data_model = data_pool.get_data_model(DATA_MODEL_IDS[\"accounts_payable\"])\n",
    "\n",
    "pprint(data_model.get_tables())\n",
    "pprint(data_model.get_tables()[0].get_columns())"
   ]
  },
  {
   "cell_type": "code",
   "execution_count": null,
   "id": "5c1bbad1",
   "metadata": {},
   "outputs": [],
   "source": [
    "tables = data_model.get_tables()"
   ]
  },
  {
   "cell_type": "code",
   "execution_count": null,
   "id": "d0e14428",
   "metadata": {},
   "outputs": [],
   "source": [
    "table_info = pd.DataFrame([{\"name\": table.name, \"columns\": [col.name for col in table.get_columns()]} for table in tables])"
   ]
  },
  {
   "cell_type": "code",
   "execution_count": null,
   "id": "d1a47ac0",
   "metadata": {},
   "outputs": [],
   "source": [
    "table_info[\"name_short\"] = table_info[\"name\"].apply(lambda name: name[:2] + name[10:])"
   ]
  },
  {
   "cell_type": "code",
   "execution_count": null,
   "id": "7c1d1fd3",
   "metadata": {},
   "outputs": [],
   "source": [
    "table_info"
   ]
  },
  {
   "cell_type": "code",
   "execution_count": null,
   "id": "2285186b",
   "metadata": {},
   "outputs": [],
   "source": []
  }
 ],
 "metadata": {
  "kernelspec": {
   "display_name": "Python 3 (ipykernel)",
   "language": "python",
   "name": "python3"
  },
  "language_info": {
   "codemirror_mode": {
    "name": "ipython",
    "version": 3
   },
   "file_extension": ".py",
   "mimetype": "text/x-python",
   "name": "python",
   "nbconvert_exporter": "python",
   "pygments_lexer": "ipython3",
   "version": "3.8.16"
  }
 },
 "nbformat": 4,
 "nbformat_minor": 5
}
