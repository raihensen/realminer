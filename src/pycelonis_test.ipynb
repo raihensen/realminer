{
 "cells": [
  {
   "cell_type": "code",
   "execution_count": 1,
   "id": "7eb78337",
   "metadata": {},
   "outputs": [],
   "source": [
    "import pandas as pd"
   ]
  },
  {
   "cell_type": "code",
   "execution_count": null,
   "id": "9e05f614",
   "metadata": {},
   "outputs": [],
   "source": [
    "from pycelonis import get_celonis\n",
    "# from pycelonis import utils\n",
    "from pprint import pprint\n",
    "\n",
    "EMS_API_TOKEN_FILE = \"../ems_apikey\"\n",
    "DATA_POOL_ID = \"3f9e0c7b-a9d5-4e51-a322-b38e6b10d8b1\"\n",
    "DATA_MODEL_IDS = {\n",
    "    \"accounts_payable\": \"77da2001-dcf7-4699-b5d3-ce89dc2234d3\",\n",
    "    \"accounts_receivable\": \"524481f7-ed83-4f3b-8452-a6e7897afacb\",\n",
    "    \"inventory_management\": \"a1cd3a04-fbec-4e6e-9fec-65c2fc79ed77\",\n",
    "    \"order_management\": \"213ab550-b1cf-4abc-ad05-23be6a2fd1b8\",\n",
    "    \"procurement\": \"535e9505-0662-432c-b18a-af07edb6137d\"\n",
    "}\n",
    "\n",
    "celonis = get_celonis(\n",
    "    base_url=\"https://pads-x-celonis-group-1.try.celonis.cloud/\",\n",
    "    api_token=open(EMS_API_TOKEN_FILE).read(),\n",
    "    key_type=\"APP_KEY\"\n",
    ")\n",
    "\n",
    "data_pool = celonis.data_integration.get_data_pool(DATA_POOL_ID)"
   ]
  },
  {
   "cell_type": "code",
   "execution_count": null,
   "id": "2b8d7c62",
   "metadata": {
    "scrolled": true
   },
   "outputs": [],
   "source": [
    "data_model = data_pool.get_data_model(DATA_MODEL_IDS[\"accounts_payable\"])\n",
    "# pprint(data_model.get_tables())\n",
    "# pprint(data_model.get_tables()[0].get_columns())"
   ]
  },
  {
   "cell_type": "code",
   "execution_count": null,
   "id": "32f9a1a3",
   "metadata": {},
   "outputs": [],
   "source": [
    "from pycelonis.pql.pql import PQL, PQLColumn, PQLFilter"
   ]
  },
  {
   "cell_type": "code",
   "execution_count": null,
   "id": "5c1bbad1",
   "metadata": {},
   "outputs": [],
   "source": [
    "tables = {t.name: t for t in data_model.get_tables()}"
   ]
  },
  {
   "cell_type": "code",
   "execution_count": null,
   "id": "4c87c2ee",
   "metadata": {},
   "outputs": [],
   "source": [
    "object_types = [t[10:] for t in tables if t[0] == \"o\"]\n",
    "event_types = [t[10:] for t in tables if t[0] == \"e\"]"
   ]
  },
  {
   "cell_type": "code",
   "execution_count": null,
   "id": "d70a1ee0",
   "metadata": {},
   "outputs": [],
   "source": [
    "# Create cache for the table columns (table.get_columns() may be very slow)\n",
    "columns = {}\n",
    "\n",
    "def get_columns(t):\n",
    "    if t not in columns:\n",
    "        columns[t] = tables[t].get_columns()\n",
    "    return columns[t]"
   ]
  },
  {
   "cell_type": "code",
   "execution_count": null,
   "id": "28be006d",
   "metadata": {},
   "outputs": [],
   "source": [
    "event_types"
   ]
  },
  {
   "cell_type": "code",
   "execution_count": null,
   "id": "6288ff84",
   "metadata": {
    "scrolled": true
   },
   "outputs": [],
   "source": [
    "def object_table(ot):\n",
    "    return f\"o_celonis_{ot}\"\n",
    "\n",
    "def event_table(act):\n",
    "    return f\"e_celonis_{act}\"\n",
    "\n",
    "def relation_table():\n",
    "    return \"r_celonis_AP\"\n",
    "\n",
    "def column_query(table, column=None):\n",
    "    if type(table) == str:\n",
    "        table = tables[table]\n",
    "    return PQLColumn(query=f\"{table.name}.{column}\", name=column)\n",
    "\n",
    "def all_column_queries(t):\n",
    "    return [column_query(t, col.name) for col in get_columns(t) if col.name != \"ID\"]\n",
    "\n",
    "def execute(query):\n",
    "    # merge and execute queries. \n",
    "    if type(query) == list:\n",
    "        q = PQL()\n",
    "        for part in query:\n",
    "            q += part\n",
    "        query = q\n",
    "    elif type(query) == PQLColumn:\n",
    "        query = PQL() + query\n",
    "    \n",
    "#     print(query)\n",
    "    return data_model.export_data_frame(query)\n"
   ]
  },
  {
   "cell_type": "code",
   "execution_count": null,
   "id": "d7af61bc",
   "metadata": {
    "scrolled": false
   },
   "outputs": [],
   "source": [
    "# Show head of all event tables\n",
    "\n",
    "for act in event_types:\n",
    "    print(f\"Activity '{act}'\")\n",
    "    display(execute(all_column_queries(event_table(act))).head())\n",
    "# head(all_column_queries(\"o_celonis_VendorAccountCreditItem\"))"
   ]
  },
  {
   "cell_type": "code",
   "execution_count": null,
   "id": "e2b469ee",
   "metadata": {},
   "outputs": [],
   "source": [
    "# basic PQL test\n",
    "\n",
    "query = PQL()\n",
    "# query += PQLColumn(query=\"o_celonis_VendorAccountCreditItem.*\")\n",
    "query += PQLColumn(query=\"o_celonis_VendorAccountCreditItem.Type\", name=\"Type\")\n",
    "query += PQLColumn(query=\"o_celonis_VendorAccountCreditItem.CreationTime\", name=\"CreationTime\")\n",
    "# query += PQLColumn(query=\"o_celonis_VendorAccountCreditItem.PaymentMethod\", name=\"PaymentMethod\")\n",
    "# query += PQLFilter(\"FILTER DOMAIN MATCH_PROCESS(NODE['Book Invoice'] \\\n",
    "#                     as src,NODE['Cancel Invoice Receipt']  \\\n",
    "#                     as trg CONNECTED BY EVENTUALLY [ src, trg ]) = 1\")\n",
    "filtered_results = data_model.export_data_frame(query)\n",
    "filtered_results.head()"
   ]
  },
  {
   "cell_type": "code",
   "execution_count": null,
   "id": "d3150e30",
   "metadata": {},
   "outputs": [],
   "source": []
  },
  {
   "cell_type": "code",
   "execution_count": null,
   "id": "d0e14428",
   "metadata": {},
   "outputs": [],
   "source": [
    "# table_info = pd.DataFrame([{\"name\": table.name, \"columns\": [col.name for col in table.get_columns()]} for table in tables])\n",
    "# table_info[\"name_short\"] = table_info[\"name\"].apply(lambda name: name[:2] + name[10:])\n",
    "\n",
    "# table_info"
   ]
  },
  {
   "cell_type": "code",
   "execution_count": null,
   "id": "2285186b",
   "metadata": {},
   "outputs": [],
   "source": []
  }
 ],
 "metadata": {
  "kernelspec": {
   "display_name": "Python 3 (ipykernel)",
   "language": "python",
   "name": "python3"
  },
  "language_info": {
   "codemirror_mode": {
    "name": "ipython",
    "version": 3
   },
   "file_extension": ".py",
   "mimetype": "text/x-python",
   "name": "python",
   "nbconvert_exporter": "python",
   "pygments_lexer": "ipython3",
   "version": "3.8.16"
  }
 },
 "nbformat": 4,
 "nbformat_minor": 5
}
