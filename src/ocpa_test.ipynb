{
 "cells": [
  {
   "cell_type": "code",
   "execution_count": 1,
   "metadata": {},
   "outputs": [],
   "source": [
    "import pandas as pd\n",
    "from pathlib import Path\n",
    "from pprint import pprint\n",
    "# from ocpa.algo.util.process_executions.factory import CONN_COMP, LEAD_TYPE\n",
    "# from ocpa.algo.util.variants.factory import ONE_PHASE, TWO_PHASE"
   ]
  },
  {
   "cell_type": "code",
   "execution_count": 2,
   "metadata": {},
   "outputs": [],
   "source": [
    "# from https://ocel-standard.org\n",
    "DATASET_GITHUB = {\"dataset\": \"github_pm4py.jsonocel\", \"leading_type\": \"case:concept:name\"}\n",
    "DATASET_O2C = {\"dataset\": \"o2c.jsonocel\", \"leading_type\": \"BELNR\"} # SAP\n",
    "DATASET_P2P = {\"dataset\": \"p2p.jsonocel\", \"leading_type\": \"BELNR\"} # SAP\n",
    "DATASET_TRANSFER = {\"dataset\": \"transfer_order.jsonocel\", \"leading_type\": \"MATNR\"} # SAP\n",
    "DATASET_RECRUITING = {\"dataset\": \"recruiting.jsonocel\", \"leading_type\": \"applications\"}\n",
    "DATASET_ORDER = {\"dataset\": \"running-example.jsonocel\", \"leading_type\": \"xxx\"}\n",
    "DATASET_WINDOWS = {\"dataset\": \"windows_events.jsonocel\", \"leading_type\": \"eventIdentifier\"}\n",
    "\n",
    "# example dataset from celonis\n",
    "DATASET_CELONIS = {\"dataset\": \"celonis.jsonocel\", \"leading_type\": \"xxx\"}"
   ]
  },
  {
   "cell_type": "code",
   "execution_count": 3,
   "metadata": {},
   "outputs": [
    {
     "name": "stderr",
     "output_type": "stream",
     "text": [
      "c:\\users\\ilyafradlin\\miniconda3\\envs\\celonis\\lib\\site-packages\\pm4py\\objects\\petri\\__init__.py:19: UserWarning: please use the pm4py.objects.petri_net package instead.\n",
      "  warnings.warn('please use the pm4py.objects.petri_net package instead.')\n",
      "c:\\users\\ilyafradlin\\miniconda3\\envs\\celonis\\lib\\site-packages\\pm4py\\objects\\petri\\obj.py:19: UserWarning: pm4py.objects.petri.obj is deprecated. Please use the class pm4py.objects.petri_net.obj instead.\n",
      "  warnings.warn(\"pm4py.objects.petri.obj is deprecated. Please use the class pm4py.objects.petri_net.obj instead.\")\n",
      "c:\\users\\ilyafradlin\\miniconda3\\envs\\celonis\\lib\\site-packages\\pm4py\\objects\\petri\\exporter\\__init__.py:21: UserWarning: please use the pm4py.objects.petri_net.exporter package instead.\n",
      "  warnings.warn('please use the pm4py.objects.petri_net.exporter package instead.')\n",
      "c:\\users\\ilyafradlin\\miniconda3\\envs\\celonis\\lib\\site-packages\\pm4py\\objects\\petri\\importer\\__init__.py:21: UserWarning: please use the pm4py.objects.petri_net.importer package instead.\n",
      "  warnings.warn('please use the pm4py.objects.petri_net.importer package instead.')\n",
      "c:\\users\\ilyafradlin\\miniconda3\\envs\\celonis\\lib\\site-packages\\pm4py\\objects\\petri\\petrinet.py:19: UserWarning: pm4py.objects.petri.petrinet is deprecated. Please use the class pm4py.objects.petri_net.obj instead.\n",
      "  warnings.warn(\"pm4py.objects.petri.petrinet is deprecated. Please use the class pm4py.objects.petri_net.obj instead.\")\n",
      "c:\\users\\ilyafradlin\\miniconda3\\envs\\celonis\\lib\\site-packages\\pm4py\\visualization\\petrinet\\__init__.py:20: UserWarning: please use the pm4py.visualization.petri_net package instead\n",
      "  warnings.warn(\"please use the pm4py.visualization.petri_net package instead\")\n"
     ]
    }
   ],
   "source": [
    "from ocpa.algo.util.process_executions.factory import CONN_COMP, LEAD_TYPE\n",
    "from ocpa.algo.util.variants.factory import ONE_PHASE, TWO_PHASE"
   ]
  },
  {
   "cell_type": "code",
   "execution_count": 5,
   "metadata": {},
   "outputs": [],
   "source": [
    "import ocpa\n",
    "from importlib import reload\n",
    "# import ocpa.objects.log.importer.ocel.factory as ocel_import_factory"
   ]
  },
  {
   "cell_type": "code",
   "execution_count": 12,
   "metadata": {},
   "outputs": [],
   "source": [
    "reload(ocpa)\n",
    "ocel_import_factory = ocpa.objects.log.importer.ocel.factory"
   ]
  },
  {
   "cell_type": "code",
   "execution_count": null,
   "metadata": {},
   "outputs": [],
   "source": []
  },
  {
   "cell_type": "code",
   "execution_count": 13,
   "metadata": {},
   "outputs": [],
   "source": [
    "dataset = DATASET_RECRUITING\n",
    "\n",
    "filename = Path(\"../data/datasets\") / dataset[\"dataset\"]\n",
    "# https://ocpa.readthedocs.io/en/latest/eventlogmanagement.html\n",
    "ocel = ocel_import_factory.apply(filename, parameters={\"execution_extraction\": dataset.get(\"execution_extraction\", LEAD_TYPE),\n",
    "                                                       \"leading_type\": dataset.get(\"leading_type\", None),\n",
    "                                                       \"variant_calculation\": dataset.get(\"variant_calculation\", TWO_PHASE),\n",
    "                                                       \"exact_variant_calculation\": dataset.get(\"exact_variant_calculation\", False)})"
   ]
  },
  {
   "cell_type": "code",
   "execution_count": 19,
   "metadata": {},
   "outputs": [],
   "source": [
    "import pm4py\n",
    "\n",
    "dataset = DATASET_RECRUITING\n",
    "filename = str(Path(\"../data/datasets\") / dataset[\"dataset\"])\n",
    "ocel = pm4py.read_ocel(filename)"
   ]
  },
  {
   "cell_type": "code",
   "execution_count": 20,
   "metadata": {},
   "outputs": [
    {
     "data": {
      "text/plain": [
       "{'applications': {'assign recruiter',\n",
       "  'assign vacancy',\n",
       "  'check references',\n",
       "  'conduct interview',\n",
       "  'consult manager',\n",
       "  'first screening',\n",
       "  'invite for interview',\n",
       "  'job offer declined',\n",
       "  'make job offer',\n",
       "  'offer accepted and hired',\n",
       "  'send rejection',\n",
       "  'submit application'},\n",
       " 'recruiters': {'assign recruiter',\n",
       "  'check references',\n",
       "  'conduct interview',\n",
       "  'consult manager',\n",
       "  'first screening',\n",
       "  'invite for interview',\n",
       "  'job offer declined',\n",
       "  'make job offer',\n",
       "  'offer accepted and hired',\n",
       "  'send rejection'},\n",
       " 'vacancies': {'assign vacancy',\n",
       "  'change manager',\n",
       "  'close vacancy (no hire)',\n",
       "  'close vacancy for new applications',\n",
       "  'conduct interview',\n",
       "  'invite for interview',\n",
       "  'job offer declined',\n",
       "  'make job offer',\n",
       "  'offer accepted and hired',\n",
       "  'open vacancy',\n",
       "  'submit application'},\n",
       " 'managers': {'change manager',\n",
       "  'conduct interview',\n",
       "  'consult manager',\n",
       "  'make job offer',\n",
       "  'open vacancy'},\n",
       " 'applicants': {'conduct interview',\n",
       "  'invite for interview',\n",
       "  'job offer declined',\n",
       "  'make job offer',\n",
       "  'offer accepted and hired',\n",
       "  'send rejection',\n",
       "  'submit application'},\n",
       " 'offers': {'job offer declined',\n",
       "  'make job offer',\n",
       "  'offer accepted and hired'}}"
      ]
     },
     "execution_count": 20,
     "metadata": {},
     "output_type": "execute_result"
    }
   ],
   "source": [
    "pm4py.ocel.ocel_object_type_activities(ocel)"
   ]
  },
  {
   "cell_type": "code",
   "execution_count": 17,
   "metadata": {},
   "outputs": [
    {
     "data": {
      "text/html": [
       "<div>\n",
       "<style scoped>\n",
       "    .dataframe tbody tr th:only-of-type {\n",
       "        vertical-align: middle;\n",
       "    }\n",
       "\n",
       "    .dataframe tbody tr th {\n",
       "        vertical-align: top;\n",
       "    }\n",
       "\n",
       "    .dataframe thead th {\n",
       "        text-align: right;\n",
       "    }\n",
       "</style>\n",
       "<table border=\"1\" class=\"dataframe\">\n",
       "  <thead>\n",
       "    <tr style=\"text-align: right;\">\n",
       "      <th></th>\n",
       "      <th>event_id</th>\n",
       "      <th>event_activity</th>\n",
       "      <th>event_timestamp</th>\n",
       "      <th>event_start_timestamp</th>\n",
       "      <th>vacancies</th>\n",
       "      <th>managers</th>\n",
       "      <th>applicants</th>\n",
       "      <th>applications</th>\n",
       "      <th>recruiters</th>\n",
       "      <th>offers</th>\n",
       "    </tr>\n",
       "    <tr>\n",
       "      <th>event_index</th>\n",
       "      <th></th>\n",
       "      <th></th>\n",
       "      <th></th>\n",
       "      <th></th>\n",
       "      <th></th>\n",
       "      <th></th>\n",
       "      <th></th>\n",
       "      <th></th>\n",
       "      <th></th>\n",
       "      <th></th>\n",
       "    </tr>\n",
       "  </thead>\n",
       "  <tbody>\n",
       "    <tr>\n",
       "      <th>0</th>\n",
       "      <td>0</td>\n",
       "      <td>open vacancy</td>\n",
       "      <td>2019-05-20 12:26:57</td>\n",
       "      <td>2019-05-20 12:26:57</td>\n",
       "      <td>[Vacancy[550001] - Manager]</td>\n",
       "      <td>[Bastian Nominacher]</td>\n",
       "      <td>[]</td>\n",
       "      <td>[]</td>\n",
       "      <td>[]</td>\n",
       "      <td>[]</td>\n",
       "    </tr>\n",
       "    <tr>\n",
       "      <th>1</th>\n",
       "      <td>1</td>\n",
       "      <td>submit application</td>\n",
       "      <td>2019-05-20 12:26:57</td>\n",
       "      <td>2019-05-20 12:26:57</td>\n",
       "      <td>[]</td>\n",
       "      <td>[]</td>\n",
       "      <td>[Stephan Taylor]</td>\n",
       "      <td>[Application[770001]]</td>\n",
       "      <td>[]</td>\n",
       "      <td>[]</td>\n",
       "    </tr>\n",
       "    <tr>\n",
       "      <th>2</th>\n",
       "      <td>2</td>\n",
       "      <td>submit application</td>\n",
       "      <td>2019-05-20 13:38:13</td>\n",
       "      <td>2019-05-20 13:38:13</td>\n",
       "      <td>[]</td>\n",
       "      <td>[]</td>\n",
       "      <td>[Toon Jansen]</td>\n",
       "      <td>[Application[770002]]</td>\n",
       "      <td>[]</td>\n",
       "      <td>[]</td>\n",
       "    </tr>\n",
       "    <tr>\n",
       "      <th>3</th>\n",
       "      <td>3</td>\n",
       "      <td>submit application</td>\n",
       "      <td>2019-05-20 15:00:46</td>\n",
       "      <td>2019-05-20 15:00:46</td>\n",
       "      <td>[]</td>\n",
       "      <td>[]</td>\n",
       "      <td>[Jorge Li]</td>\n",
       "      <td>[Application[770003]]</td>\n",
       "      <td>[]</td>\n",
       "      <td>[]</td>\n",
       "    </tr>\n",
       "    <tr>\n",
       "      <th>4</th>\n",
       "      <td>4</td>\n",
       "      <td>submit application</td>\n",
       "      <td>2019-05-20 15:45:06</td>\n",
       "      <td>2019-05-20 15:45:06</td>\n",
       "      <td>[]</td>\n",
       "      <td>[]</td>\n",
       "      <td>[Lisa Jones]</td>\n",
       "      <td>[Application[770004]]</td>\n",
       "      <td>[]</td>\n",
       "      <td>[]</td>\n",
       "    </tr>\n",
       "    <tr>\n",
       "      <th>...</th>\n",
       "      <td>...</td>\n",
       "      <td>...</td>\n",
       "      <td>...</td>\n",
       "      <td>...</td>\n",
       "      <td>...</td>\n",
       "      <td>...</td>\n",
       "      <td>...</td>\n",
       "      <td>...</td>\n",
       "      <td>...</td>\n",
       "      <td>...</td>\n",
       "    </tr>\n",
       "    <tr>\n",
       "      <th>6975</th>\n",
       "      <td>6975</td>\n",
       "      <td>close vacancy (no hire)</td>\n",
       "      <td>2020-08-12 18:43:18</td>\n",
       "      <td>2020-08-12 18:43:18</td>\n",
       "      <td>[Vacancy[550123] - Manager]</td>\n",
       "      <td>[]</td>\n",
       "      <td>[]</td>\n",
       "      <td>[]</td>\n",
       "      <td>[]</td>\n",
       "      <td>[]</td>\n",
       "    </tr>\n",
       "    <tr>\n",
       "      <th>6976</th>\n",
       "      <td>6976</td>\n",
       "      <td>close vacancy (no hire)</td>\n",
       "      <td>2020-08-15 03:49:22</td>\n",
       "      <td>2020-08-15 03:49:22</td>\n",
       "      <td>[Vacancy[550127] - Programmer]</td>\n",
       "      <td>[]</td>\n",
       "      <td>[]</td>\n",
       "      <td>[]</td>\n",
       "      <td>[]</td>\n",
       "      <td>[]</td>\n",
       "    </tr>\n",
       "    <tr>\n",
       "      <th>6977</th>\n",
       "      <td>6977</td>\n",
       "      <td>close vacancy (no hire)</td>\n",
       "      <td>2020-08-15 13:45:15</td>\n",
       "      <td>2020-08-15 13:45:15</td>\n",
       "      <td>[Vacancy[550128] - Programmer]</td>\n",
       "      <td>[]</td>\n",
       "      <td>[]</td>\n",
       "      <td>[]</td>\n",
       "      <td>[]</td>\n",
       "      <td>[]</td>\n",
       "    </tr>\n",
       "    <tr>\n",
       "      <th>6978</th>\n",
       "      <td>6978</td>\n",
       "      <td>close vacancy (no hire)</td>\n",
       "      <td>2020-08-18 11:13:20</td>\n",
       "      <td>2020-08-18 11:13:20</td>\n",
       "      <td>[Vacancy[550130] - Consultant]</td>\n",
       "      <td>[]</td>\n",
       "      <td>[]</td>\n",
       "      <td>[]</td>\n",
       "      <td>[]</td>\n",
       "      <td>[]</td>\n",
       "    </tr>\n",
       "    <tr>\n",
       "      <th>6979</th>\n",
       "      <td>6979</td>\n",
       "      <td>close vacancy (no hire)</td>\n",
       "      <td>2020-08-19 20:53:18</td>\n",
       "      <td>2020-08-19 20:53:18</td>\n",
       "      <td>[Vacancy[550133] - Consultant]</td>\n",
       "      <td>[]</td>\n",
       "      <td>[]</td>\n",
       "      <td>[]</td>\n",
       "      <td>[]</td>\n",
       "      <td>[]</td>\n",
       "    </tr>\n",
       "  </tbody>\n",
       "</table>\n",
       "<p>6980 rows × 10 columns</p>\n",
       "</div>"
      ],
      "text/plain": [
       "             event_id           event_activity     event_timestamp  \\\n",
       "event_index                                                          \n",
       "0                   0             open vacancy 2019-05-20 12:26:57   \n",
       "1                   1       submit application 2019-05-20 12:26:57   \n",
       "2                   2       submit application 2019-05-20 13:38:13   \n",
       "3                   3       submit application 2019-05-20 15:00:46   \n",
       "4                   4       submit application 2019-05-20 15:45:06   \n",
       "...               ...                      ...                 ...   \n",
       "6975             6975  close vacancy (no hire) 2020-08-12 18:43:18   \n",
       "6976             6976  close vacancy (no hire) 2020-08-15 03:49:22   \n",
       "6977             6977  close vacancy (no hire) 2020-08-15 13:45:15   \n",
       "6978             6978  close vacancy (no hire) 2020-08-18 11:13:20   \n",
       "6979             6979  close vacancy (no hire) 2020-08-19 20:53:18   \n",
       "\n",
       "            event_start_timestamp                       vacancies  \\\n",
       "event_index                                                         \n",
       "0             2019-05-20 12:26:57     [Vacancy[550001] - Manager]   \n",
       "1             2019-05-20 12:26:57                              []   \n",
       "2             2019-05-20 13:38:13                              []   \n",
       "3             2019-05-20 15:00:46                              []   \n",
       "4             2019-05-20 15:45:06                              []   \n",
       "...                           ...                             ...   \n",
       "6975          2020-08-12 18:43:18     [Vacancy[550123] - Manager]   \n",
       "6976          2020-08-15 03:49:22  [Vacancy[550127] - Programmer]   \n",
       "6977          2020-08-15 13:45:15  [Vacancy[550128] - Programmer]   \n",
       "6978          2020-08-18 11:13:20  [Vacancy[550130] - Consultant]   \n",
       "6979          2020-08-19 20:53:18  [Vacancy[550133] - Consultant]   \n",
       "\n",
       "                         managers        applicants           applications  \\\n",
       "event_index                                                                  \n",
       "0            [Bastian Nominacher]                []                     []   \n",
       "1                              []  [Stephan Taylor]  [Application[770001]]   \n",
       "2                              []     [Toon Jansen]  [Application[770002]]   \n",
       "3                              []        [Jorge Li]  [Application[770003]]   \n",
       "4                              []      [Lisa Jones]  [Application[770004]]   \n",
       "...                           ...               ...                    ...   \n",
       "6975                           []                []                     []   \n",
       "6976                           []                []                     []   \n",
       "6977                           []                []                     []   \n",
       "6978                           []                []                     []   \n",
       "6979                           []                []                     []   \n",
       "\n",
       "            recruiters offers  \n",
       "event_index                    \n",
       "0                   []     []  \n",
       "1                   []     []  \n",
       "2                   []     []  \n",
       "3                   []     []  \n",
       "4                   []     []  \n",
       "...                ...    ...  \n",
       "6975                []     []  \n",
       "6976                []     []  \n",
       "6977                []     []  \n",
       "6978                []     []  \n",
       "6979                []     []  \n",
       "\n",
       "[6980 rows x 10 columns]"
      ]
     },
     "execution_count": 17,
     "metadata": {},
     "output_type": "execute_result"
    }
   ],
   "source": [
    "ocel.log.log"
   ]
  },
  {
   "cell_type": "code",
   "execution_count": null,
   "metadata": {},
   "outputs": [],
   "source": []
  },
  {
   "cell_type": "code",
   "execution_count": null,
   "metadata": {},
   "outputs": [],
   "source": [
    "ocel.object_types"
   ]
  },
  {
   "cell_type": "markdown",
   "metadata": {},
   "source": [
    "## Object types per activity"
   ]
  },
  {
   "cell_type": "code",
   "execution_count": null,
   "metadata": {},
   "outputs": [],
   "source": [
    "act_ot_counts = {act: {f\"num_{ot}\": sum([len([oid for oid in ocel.obj.eve_objects(eid) if ocel.obj.raw.objects[oid].type == ot]) for eid in ocel.obj.act_events(act)]) for ot in ocel.object_types} for act in ocel.obj.activities}\n",
    "act_stats = pd.DataFrame([{\"activity\": act,\n",
    "                           \"frequency\": len(ocel.obj.act_events(act)),\n",
    "                           **act_ot_counts[act]} for act in ocel.obj.activities])\n",
    "act_stats"
   ]
  },
  {
   "cell_type": "markdown",
   "metadata": {},
   "source": [
    "## Object type statistics (per event)"
   ]
  },
  {
   "cell_type": "code",
   "execution_count": null,
   "metadata": {},
   "outputs": [],
   "source": [
    "numobjs_ev = ocel.log.log[ocel.object_types].applymap(len)\n",
    "stats = numobjs_ev.describe().transpose().drop(columns=[\"count\"])\n",
    "stats[\"count\"] = [len(ocel.obj.ot_objects(ot)) for ot in stats.index]\n",
    "stats[\"caseID\"] = (stats[\"min\"] == 1) & (stats[\"max\"] == 1)\n",
    "stats"
   ]
  },
  {
   "cell_type": "code",
   "execution_count": null,
   "metadata": {},
   "outputs": [],
   "source": [
    "print(f\"{len(ocel.process_executions)} Process executions\")"
   ]
  },
  {
   "cell_type": "code",
   "execution_count": null,
   "metadata": {},
   "outputs": [],
   "source": [
    "pex_event_counts = pd.Series([len(ex) for ex in ocel.process_executions])\n",
    "pex_event_counts.describe()"
   ]
  },
  {
   "cell_type": "code",
   "execution_count": null,
   "metadata": {},
   "outputs": [],
   "source": [
    "import matplotlib.pyplot as plt\n",
    "\n",
    "plt.hist(pex_event_counts, bins=100)\n",
    "plt.title(\"Number of events per process execution\")\n",
    "plt.show()"
   ]
  },
  {
   "cell_type": "markdown",
   "metadata": {},
   "source": [
    "# Process Execution Graphs"
   ]
  },
  {
   "cell_type": "code",
   "execution_count": null,
   "metadata": {},
   "outputs": [],
   "source": [
    "G = ocel.get_process_execution_graph(0)"
   ]
  },
  {
   "cell_type": "code",
   "execution_count": null,
   "metadata": {},
   "outputs": [],
   "source": [
    "import networkx as nx"
   ]
  },
  {
   "cell_type": "code",
   "execution_count": null,
   "metadata": {},
   "outputs": [],
   "source": [
    "graphs = [ocel.get_process_execution_graph(i) for i in range(len(ocel.process_executions))]"
   ]
  },
  {
   "cell_type": "code",
   "execution_count": null,
   "metadata": {},
   "outputs": [],
   "source": [
    "gstats = pd.DataFrame([{\"i\": i, \"nodes\": len(G.nodes), \"edges\": len(G.edges)} for i, G in enumerate(graphs)])"
   ]
  },
  {
   "cell_type": "code",
   "execution_count": null,
   "metadata": {},
   "outputs": [],
   "source": [
    "gstats.describe()"
   ]
  },
  {
   "cell_type": "code",
   "execution_count": null,
   "metadata": {},
   "outputs": [],
   "source": [
    "gstats.sort_values(by=\"nodes\")"
   ]
  },
  {
   "cell_type": "code",
   "execution_count": null,
   "metadata": {},
   "outputs": [],
   "source": [
    "G.nodes"
   ]
  },
  {
   "cell_type": "code",
   "execution_count": null,
   "metadata": {},
   "outputs": [],
   "source": [
    "nx.find_cycle(G)"
   ]
  },
  {
   "cell_type": "code",
   "execution_count": null,
   "metadata": {},
   "outputs": [],
   "source": [
    "ocel.log.log.loc[0, \"event_activity\"]"
   ]
  },
  {
   "cell_type": "code",
   "execution_count": null,
   "metadata": {},
   "outputs": [],
   "source": [
    "for event_id, node in G.nodes.items():\n",
    "    node[\"label\"] = ocel.log.log.loc[event_id, \"event_activity\"]"
   ]
  },
  {
   "cell_type": "code",
   "execution_count": null,
   "metadata": {},
   "outputs": [],
   "source": [
    "G.nodes[1]"
   ]
  },
  {
   "cell_type": "code",
   "execution_count": null,
   "metadata": {},
   "outputs": [],
   "source": [
    "nx.draw_networkx(G.subgraph([1, 16, 21, 30]))"
   ]
  },
  {
   "cell_type": "markdown",
   "metadata": {},
   "source": [
    "## Object type statistics (per process execution)"
   ]
  },
  {
   "cell_type": "code",
   "execution_count": null,
   "metadata": {},
   "outputs": [],
   "source": [
    "numobjs_ex = pd.DataFrame([{t: len([o for ot, o in objs if ot == t]) for t in ocel.object_types} for objs in ocel.process_execution_objects])\n",
    "numobjs_ex.describe().transpose()"
   ]
  },
  {
   "cell_type": "code",
   "execution_count": null,
   "metadata": {},
   "outputs": [],
   "source": [
    "ocel.process_execution_objects[200]"
   ]
  },
  {
   "cell_type": "code",
   "execution_count": null,
   "metadata": {},
   "outputs": [],
   "source": [
    "ocel.process_executions[1]"
   ]
  },
  {
   "cell_type": "code",
   "execution_count": null,
   "metadata": {},
   "outputs": [],
   "source": [
    "# https://ocpa.readthedocs.io/en/latest/eventlogmanagement.html\n",
    "num_exec = len(ocel.process_executions)\n",
    "\n",
    "print(f\"Object types: {ocel.object_types}\")\n",
    "print(f\"Number of process executions: {num_exec}\")\n",
    "print(f\"Events of the first process execution: {ocel.process_executions[0]}\")\n",
    "print(f\"Objects of the first process execution: {ocel.process_execution_objects[0]}\")\n",
    "print(f\"Process execution graph of the first execution: {ocel.get_process_execution_graph(0)}\")\n",
    "print(f\"Process execution of the first event with event id 0: {ocel.process_execution_mappings[0]}\")\n",
    "\n",
    "exec_info_data = []\n",
    "for i, (events, objects) in enumerate(zip(ocel.process_executions, ocel.process_execution_objects)):\n",
    "    exec_info_data.append({\n",
    "        \"index\": i,\n",
    "        \"num_events\": len(events),\n",
    "        **{f\"num_{ot}\": len([obj for t, obj in objects if t == ot]) for ot in ocel.object_types}\n",
    "    })\n",
    "\n",
    "exec_info = pd.DataFrame(exec_info_data)\n",
    "display(exec_info)\n",
    "display(exec_info.describe())"
   ]
  },
  {
   "cell_type": "code",
   "execution_count": null,
   "metadata": {},
   "outputs": [],
   "source": [
    "import networkx as nx\n",
    "\n",
    "nx.draw(ocel.get_process_execution_graph(0))"
   ]
  },
  {
   "cell_type": "code",
   "execution_count": null,
   "metadata": {},
   "outputs": [],
   "source": []
  },
  {
   "cell_type": "code",
   "execution_count": null,
   "metadata": {},
   "outputs": [],
   "source": []
  }
 ],
 "metadata": {
  "kernelspec": {
   "display_name": "Python 3 (ipykernel)",
   "language": "python",
   "name": "python3"
  },
  "language_info": {
   "codemirror_mode": {
    "name": "ipython",
    "version": 3
   },
   "file_extension": ".py",
   "mimetype": "text/x-python",
   "name": "python",
   "nbconvert_exporter": "python",
   "pygments_lexer": "ipython3",
   "version": "3.9.16"
  }
 },
 "nbformat": 4,
 "nbformat_minor": 4
}
