{
 "cells": [
  {
   "cell_type": "code",
   "execution_count": null,
   "metadata": {},
   "outputs": [],
   "source": [
    "import sys\n",
    "sys.executable"
   ]
  },
  {
   "cell_type": "code",
   "execution_count": null,
   "metadata": {},
   "outputs": [],
   "source": [
    "# dataset = \"github_pm4py\"\n",
    "dataset = \"celonis\"\n",
    "# dataset = \"windows_events\"\n",
    "# dataset = \"running-example\"\n",
    "# dataset = \"recruiting\""
   ]
  },
  {
   "cell_type": "code",
   "execution_count": null,
   "metadata": {},
   "outputs": [],
   "source": [
    "\n",
    "import pandas as pd\n",
    "from ocpa.objects.log.importer.ocel import factory as ocel_import_factory\n",
    "from ocpa.algo.util.process_executions.factory import CONN_COMP, LEAD_TYPE\n",
    "from ocpa.algo.util.variants.factory import ONE_PHASE, TWO_PHASE\n",
    "\n",
    "filename = f\"../data/datasets/{dataset}.jsonocel\"\n",
    "ocel = ocel_import_factory.apply(filename, parameters={\"execution_extraction\": LEAD_TYPE,\n",
    "                                                       \"leading_type\": \"case:concept:name\",\n",
    "                                                       \"variant_calculation\": TWO_PHASE,\n",
    "                                                       \"exact_variant_calculation\": False})\n"
   ]
  },
  {
   "cell_type": "code",
   "execution_count": null,
   "metadata": {},
   "outputs": [],
   "source": [
    "len(ocel.process_executions), len(ocel.process_execution_objects)"
   ]
  },
  {
   "cell_type": "code",
   "execution_count": null,
   "metadata": {},
   "outputs": [],
   "source": [
    "ocel.process_execution_objects[200]"
   ]
  },
  {
   "cell_type": "code",
   "execution_count": null,
   "metadata": {},
   "outputs": [],
   "source": [
    "ocel.process_execution_mappings"
   ]
  },
  {
   "cell_type": "code",
   "execution_count": null,
   "metadata": {},
   "outputs": [],
   "source": [
    "import numpy as np\n",
    "\n",
    "A = np.array(ocel.process_executions)"
   ]
  },
  {
   "cell_type": "code",
   "execution_count": null,
   "metadata": {},
   "outputs": [],
   "source": [
    "A"
   ]
  },
  {
   "cell_type": "code",
   "execution_count": null,
   "metadata": {},
   "outputs": [],
   "source": [
    "# https://ocpa.readthedocs.io/en/latest/eventlogmanagement.html\n",
    "num_exec = len(ocel.process_executions)\n",
    "\n",
    "print(f\"Object types: {ocel.object_types}\")\n",
    "print(f\"Number of process executions: {num_exec}\")\n",
    "print(f\"Events of the first process execution: {ocel.process_executions[0]}\")\n",
    "print(f\"Objects of the first process execution: {ocel.process_execution_objects[0]}\")\n",
    "print(f\"Process execution graph of the first execution: {ocel.get_process_execution_graph(0)}\")\n",
    "print(f\"Process execution of the first event with event id 0: {ocel.process_execution_mappings[0]}\")\n",
    "\n",
    "exec_info_data = []\n",
    "for i, (events, objects) in enumerate(zip(ocel.process_executions, ocel.process_execution_objects)):\n",
    "    exec_info_data.append({\n",
    "        \"index\": i,\n",
    "        \"num_events\": len(events),\n",
    "        **{f\"num_{ot}\": len([obj for t, obj in objects if t == ot]) for ot in ocel.object_types}\n",
    "    })\n",
    "\n",
    "exec_info = pd.DataFrame(exec_info_data)\n",
    "display(exec_info)\n",
    "display(exec_info.describe())"
   ]
  },
  {
   "cell_type": "code",
   "execution_count": null,
   "metadata": {},
   "outputs": [],
   "source": [
    "import networkx as nx\n",
    "\n",
    "nx.draw(ocel.get_process_execution_graph(0))"
   ]
  },
  {
   "cell_type": "code",
   "execution_count": null,
   "metadata": {},
   "outputs": [],
   "source": []
  },
  {
   "cell_type": "code",
   "execution_count": null,
   "metadata": {},
   "outputs": [],
   "source": []
  },
  {
   "cell_type": "code",
   "execution_count": null,
   "metadata": {},
   "outputs": [],
   "source": []
  }
 ],
 "metadata": {
  "kernelspec": {
   "display_name": "Python [conda env:pads-x-celonis-ocpm] *",
   "language": "python",
   "name": "conda-env-pads-x-celonis-ocpm-py"
  },
  "language_info": {
   "codemirror_mode": {
    "name": "ipython",
    "version": 3
   },
   "file_extension": ".py",
   "mimetype": "text/x-python",
   "name": "python",
   "nbconvert_exporter": "python",
   "pygments_lexer": "ipython3",
   "version": "3.8.16"
  }
 },
 "nbformat": 4,
 "nbformat_minor": 4
}
