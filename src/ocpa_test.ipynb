{
 "cells": [
  {
   "cell_type": "code",
   "execution_count": null,
   "metadata": {},
   "outputs": [],
   "source": [
    "import sys\n",
    "sys.executable"
   ]
  },
  {
   "cell_type": "code",
   "execution_count": null,
   "metadata": {},
   "outputs": [],
   "source": [
    "import pandas as pd\n",
    "from pathlib import Path\n",
    "from pprint import pprint\n",
    "from ocpa.algo.util.process_executions.factory import CONN_COMP, LEAD_TYPE\n",
    "from ocpa.algo.util.variants.factory import ONE_PHASE, TWO_PHASE"
   ]
  },
  {
   "cell_type": "code",
   "execution_count": null,
   "metadata": {},
   "outputs": [],
   "source": [
    "# from https://ocel-standard.org\n",
    "DATASET_GITHUB = {\"dataset\": \"github_pm4py.jsonocel\", \"leading_type\": \"case:concept:name\"}\n",
    "DATASET_O2C = {\"dataset\": \"o2c.jsonocel\", \"leading_type\": \"BELNR\"} # SAP\n",
    "DATASET_P2P = {\"dataset\": \"p2p.jsonocel\", \"leading_type\": \"BELNR\"} # SAP\n",
    "DATASET_TRANSFER = {\"dataset\": \"transfer_order.jsonocel\", \"leading_type\": \"MATNR\"} # SAP\n",
    "DATASET_RECRUITING = {\"dataset\": \"recruiting.jsonocel\", \"leading_type\": \"applications\"}\n",
    "DATASET_ORDER = {\"dataset\": \"running-example.jsonocel\", \"leading_type\": \"xxx\"}\n",
    "DATASET_WINDOWS = {\"dataset\": \"windows_events.jsonocel\", \"leading_type\": \"eventIdentifier\"}\n",
    "\n",
    "# example dataset from celonis\n",
    "DATASET_CELONIS = {\"dataset\": \"celonis\", \"leading_type\": \"xxx\"}"
   ]
  },
  {
   "cell_type": "code",
   "execution_count": null,
   "metadata": {},
   "outputs": [],
   "source": [
    "import pm4py"
   ]
  },
  {
   "cell_type": "code",
   "execution_count": null,
   "metadata": {},
   "outputs": [],
   "source": [
    "dataset = DATASET_RECRUITING\n",
    "\n",
    "filename = Path(\"../data/datasets\") / dataset[\"dataset\"]\n",
    "\n",
    "ocel = pm4py.read_ocel(str(filename))\n"
   ]
  },
  {
   "cell_type": "code",
   "execution_count": null,
   "metadata": {},
   "outputs": [],
   "source": [
    "ocel"
   ]
  },
  {
   "cell_type": "code",
   "execution_count": null,
   "metadata": {},
   "outputs": [],
   "source": [
    "pm4py"
   ]
  },
  {
   "cell_type": "code",
   "execution_count": null,
   "metadata": {},
   "outputs": [],
   "source": [
    "model = pm4py.discover_oc_petri_net(ocel)\n",
    "pm4py.view_ocpn(model, format=\"svg\")"
   ]
  },
  {
   "cell_type": "code",
   "execution_count": null,
   "metadata": {},
   "outputs": [],
   "source": [
    "import ocpa\n",
    "from importlib import reload\n",
    "# import ocpa.objects.log.importer.ocel.factory as ocel_import_factory"
   ]
  },
  {
   "cell_type": "code",
   "execution_count": null,
   "metadata": {},
   "outputs": [],
   "source": [
    "reload(ocpa)\n",
    "ocel_import_factory = ocpa.objects.log.importer.ocel.factory"
   ]
  },
  {
   "cell_type": "code",
   "execution_count": null,
   "metadata": {
    "scrolled": false
   },
   "outputs": [],
   "source": [
    "dataset = DATASET_RECRUITING\n",
    "\n",
    "filename = Path(\"../data/datasets\") / dataset[\"dataset\"]\n",
    "# https://ocpa.readthedocs.io/en/latest/eventlogmanagement.html\n",
    "ocel = ocel_import_factory.apply(filename, parameters={\"execution_extraction\": dataset.get(\"execution_extraction\", LEAD_TYPE),\n",
    "                                                       \"leading_type\": dataset.get(\"leading_type\", None),\n",
    "                                                       \"variant_calculation\": dataset.get(\"variant_calculation\", TWO_PHASE),\n",
    "                                                       \"exact_variant_calculation\": dataset.get(\"exact_variant_calculation\", False)})"
   ]
  },
  {
   "cell_type": "code",
   "execution_count": null,
   "metadata": {},
   "outputs": [],
   "source": [
    "len(ocel.log.log)"
   ]
  },
  {
   "cell_type": "code",
   "execution_count": null,
   "metadata": {},
   "outputs": [],
   "source": []
  },
  {
   "cell_type": "code",
   "execution_count": null,
   "metadata": {},
   "outputs": [],
   "source": [
    "ocel.log.log"
   ]
  },
  {
   "cell_type": "code",
   "execution_count": null,
   "metadata": {},
   "outputs": [],
   "source": []
  },
  {
   "cell_type": "code",
   "execution_count": null,
   "metadata": {},
   "outputs": [],
   "source": [
    "ocel.object_types"
   ]
  },
  {
   "cell_type": "markdown",
   "metadata": {},
   "source": [
    "## Object types per activity"
   ]
  },
  {
   "cell_type": "code",
   "execution_count": null,
   "metadata": {},
   "outputs": [],
   "source": [
    "act_ot_counts = {act: {f\"num_{ot}\": sum([len([oid for oid in ocel.obj.eve_objects(eid) if ocel.obj.raw.objects[oid].type == ot]) for eid in ocel.obj.act_events(act)]) for ot in ocel.object_types} for act in ocel.obj.activities}\n",
    "act_stats = pd.DataFrame([{\"activity\": act,\n",
    "                           \"frequency\": len(ocel.obj.act_events(act)),\n",
    "                           **act_ot_counts[act]} for act in ocel.obj.activities])\n",
    "act_stats"
   ]
  },
  {
   "cell_type": "markdown",
   "metadata": {},
   "source": [
    "## Object type statistics (per event)"
   ]
  },
  {
   "cell_type": "code",
   "execution_count": null,
   "metadata": {
    "scrolled": false
   },
   "outputs": [],
   "source": [
    "numobjs_ev = ocel.log.log[ocel.object_types].applymap(len)\n",
    "stats = numobjs_ev.describe().transpose().drop(columns=[\"count\"])\n",
    "stats[\"count\"] = [len(ocel.obj.ot_objects(ot)) for ot in stats.index]\n",
    "stats[\"caseID\"] = (stats[\"min\"] == 1) & (stats[\"max\"] == 1)\n",
    "stats"
   ]
  },
  {
   "cell_type": "code",
   "execution_count": null,
   "metadata": {},
   "outputs": [],
   "source": [
    "print(f\"{len(ocel.process_executions)} Process executions\")"
   ]
  },
  {
   "cell_type": "code",
   "execution_count": null,
   "metadata": {},
   "outputs": [],
   "source": [
    "pex_event_counts = pd.Series([len(ex) for ex in ocel.process_executions])\n",
    "pex_event_counts.describe()"
   ]
  },
  {
   "cell_type": "code",
   "execution_count": null,
   "metadata": {},
   "outputs": [],
   "source": [
    "import matplotlib.pyplot as plt\n",
    "\n",
    "plt.hist(pex_event_counts, bins=100)\n",
    "plt.title(\"Number of events per process execution\")\n",
    "plt.show()"
   ]
  },
  {
   "cell_type": "markdown",
   "metadata": {},
   "source": [
    "## Object type statistics (per process execution)"
   ]
  },
  {
   "cell_type": "code",
   "execution_count": null,
   "metadata": {},
   "outputs": [],
   "source": [
    "numobjs_ex = pd.DataFrame([{t: len([o for ot, o in objs if ot == t]) for t in ocel.object_types} for objs in ocel.process_execution_objects])\n",
    "numobjs_ex.describe().transpose()"
   ]
  },
  {
   "cell_type": "code",
   "execution_count": null,
   "metadata": {},
   "outputs": [],
   "source": [
    "ocel.process_execution_objects[200]"
   ]
  },
  {
   "cell_type": "code",
   "execution_count": null,
   "metadata": {},
   "outputs": [],
   "source": [
    "ocel.process_executions[1]"
   ]
  },
  {
   "cell_type": "code",
   "execution_count": null,
   "metadata": {},
   "outputs": [],
   "source": [
    "# https://ocpa.readthedocs.io/en/latest/eventlogmanagement.html\n",
    "num_exec = len(ocel.process_executions)\n",
    "\n",
    "print(f\"Object types: {ocel.object_types}\")\n",
    "print(f\"Number of process executions: {num_exec}\")\n",
    "print(f\"Events of the first process execution: {ocel.process_executions[0]}\")\n",
    "print(f\"Objects of the first process execution: {ocel.process_execution_objects[0]}\")\n",
    "print(f\"Process execution graph of the first execution: {ocel.get_process_execution_graph(0)}\")\n",
    "print(f\"Process execution of the first event with event id 0: {ocel.process_execution_mappings[0]}\")\n",
    "\n",
    "exec_info_data = []\n",
    "for i, (events, objects) in enumerate(zip(ocel.process_executions, ocel.process_execution_objects)):\n",
    "    exec_info_data.append({\n",
    "        \"index\": i,\n",
    "        \"num_events\": len(events),\n",
    "        **{f\"num_{ot}\": len([obj for t, obj in objects if t == ot]) for ot in ocel.object_types}\n",
    "    })\n",
    "\n",
    "exec_info = pd.DataFrame(exec_info_data)\n",
    "display(exec_info)\n",
    "display(exec_info.describe())"
   ]
  },
  {
   "cell_type": "code",
   "execution_count": null,
   "metadata": {},
   "outputs": [],
   "source": [
    "import networkx as nx\n",
    "\n",
    "nx.draw(ocel.get_process_execution_graph(0))"
   ]
  },
  {
   "cell_type": "code",
   "execution_count": null,
   "metadata": {},
   "outputs": [],
   "source": []
  },
  {
   "cell_type": "code",
   "execution_count": null,
   "metadata": {},
   "outputs": [],
   "source": []
  }
 ],
 "metadata": {
  "kernelspec": {
   "display_name": "Python [conda env:pads-x-celonis-ocpm] *",
   "language": "python",
   "name": "conda-env-pads-x-celonis-ocpm-py"
  },
  "language_info": {
   "codemirror_mode": {
    "name": "ipython",
    "version": 3
   },
   "file_extension": ".py",
   "mimetype": "text/x-python",
   "name": "python",
   "nbconvert_exporter": "python",
   "pygments_lexer": "ipython3",
   "version": "3.8.16"
  }
 },
 "nbformat": 4,
 "nbformat_minor": 4
}
