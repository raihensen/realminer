{
 "cells": [
  {
   "cell_type": "code",
   "execution_count": null,
   "metadata": {},
   "outputs": [],
   "source": [
    "import pandas as pd\n",
    "from pathlib import Path\n",
    "from pprint import pprint\n",
    "from ocpa.algo.util.process_executions.factory import CONN_COMP, LEAD_TYPE\n",
    "from ocpa.algo.util.variants.factory import ONE_PHASE, TWO_PHASE"
   ]
  },
  {
   "cell_type": "code",
   "execution_count": null,
   "metadata": {},
   "outputs": [],
   "source": [
    "# from https://ocel-standard.org\n",
    "DATASET_GITHUB = {\"dataset\": \"github_pm4py.jsonocel\", \"leading_type\": \"case:concept:name\"}\n",
    "DATASET_O2C = {\"dataset\": \"o2c.jsonocel\", \"leading_type\": \"BELNR\"} # SAP\n",
    "DATASET_P2P = {\"dataset\": \"p2p.jsonocel\", \"leading_type\": \"BELNR\"} # SAP\n",
    "DATASET_TRANSFER = {\"dataset\": \"transfer_order.jsonocel\", \"leading_type\": \"MATNR\"} # SAP\n",
    "DATASET_RECRUITING = {\"dataset\": \"recruiting.jsonocel\", \"leading_type\": \"applications\"}\n",
    "DATASET_ORDER = {\"dataset\": \"running-example.jsonocel\", \"leading_type\": \"xxx\"}\n",
    "DATASET_WINDOWS = {\"dataset\": \"windows_events.jsonocel\", \"leading_type\": \"eventIdentifier\"}\n",
    "\n",
    "DATASET_OCPA_P2P = {\"dataset\": \"p2p-normal.jsonocel\", \"execution_extraction\": CONN_COMP}\n",
    "\n",
    "# example dataset from celonis\n",
    "DATASET_CELONIS = {\"dataset\": \"celonis.jsonocel\", \"leading_type\": \"xxx\"}"
   ]
  },
  {
   "cell_type": "code",
   "execution_count": null,
   "metadata": {},
   "outputs": [],
   "source": [
    "import ocpa\n",
    "from importlib import reload\n",
    "# import ocpa.objects.log.importer.ocel.factory as ocel_import_factory"
   ]
  },
  {
   "cell_type": "code",
   "execution_count": null,
   "metadata": {},
   "outputs": [],
   "source": [
    "reload(ocpa)\n",
    "ocel_import_factory = ocpa.objects.log.importer.ocel.factory"
   ]
  },
  {
   "cell_type": "code",
   "execution_count": null,
   "metadata": {},
   "outputs": [],
   "source": []
  },
  {
   "cell_type": "code",
   "execution_count": null,
   "metadata": {},
   "outputs": [],
   "source": [
    "dataset = DATASET_OCPA_P2P\n",
    "\n",
    "filename = Path(\"../data/datasets\") / dataset[\"dataset\"]\n",
    "# https://ocpa.readthedocs.io/en/latest/eventlogmanagement.html\n",
    "ocel = ocel_import_factory.apply(filename, parameters={\"execution_extraction\": dataset.get(\"execution_extraction\", LEAD_TYPE),\n",
    "                                                       \"leading_type\": dataset.get(\"leading_type\", None),\n",
    "                                                       \"variant_calculation\": dataset.get(\"variant_calculation\", TWO_PHASE),\n",
    "                                                       \"exact_variant_calculation\": dataset.get(\"exact_variant_calculation\", False)})"
   ]
  },
  {
   "cell_type": "code",
   "execution_count": null,
   "metadata": {},
   "outputs": [],
   "source": [
    "import networkx as nx\n",
    "from networkx.drawing.nx_agraph import graphviz_layout, to_agraph"
   ]
  },
  {
   "cell_type": "code",
   "execution_count": null,
   "metadata": {},
   "outputs": [],
   "source": [
    "# A.nodes()[0].attr"
   ]
  },
  {
   "cell_type": "code",
   "execution_count": null,
   "metadata": {},
   "outputs": [],
   "source": [
    "G, objects = ocel.variant_graphs[ocel.variants[0]]\n",
    "eids = list(G.nodes.keys())\n",
    "log = ocel.log.log\n",
    "variant_log = log[log.event_id.isin(eids)]\n",
    "\n",
    "event_objects = {eid: {(ot, oid) for ot, oid in objects if oid in variant_log.loc[eid, ot]} for eid in eids}\n",
    "edge_objects = {\n",
    "    (i, j): event_objects[i] & event_objects[j] for i, j in G.edges\n",
    "}\n",
    "for i, node in G.nodes.items():\n",
    "    node[\"label\"] = log.loc[i, \"event_activity\"]\n",
    "for (i, j), edge in G.edges.items():\n",
    "    edge_ots = {ot1 for ot1,_ in edge_objects[(i, j)]}\n",
    "    obj_counts = {ot: len([obj for ot1, obj in edge_objects[(i, j)] if ot1 == ot]) for ot in edge_ots}\n",
    "    edge[\"label\"] = \", \".join([f\"{count}x {ot}\" for ot, count in obj_counts.items()])\n",
    "\n",
    "\n",
    "# import pygraphviz as pgv\n",
    "\n",
    "# nx.draw_networkx(G, with_labels=True, labels=labels)\n",
    "A = to_agraph(G)\n",
    "A.graph_attr[\"rankdir\"] = \"TB\"\n",
    "A.node_attr[\"shape\"] = \"box\"\n",
    "# A.rankdir=\"LR\"\n",
    "# print(A)\n",
    "A.layout('dot')\n",
    "# A.draw(\"G.png\")\n",
    "A"
   ]
  },
  {
   "cell_type": "code",
   "execution_count": null,
   "metadata": {},
   "outputs": [],
   "source": [
    "import pm4py\n",
    "\n",
    "dataset = DATASET_RECRUITING\n",
    "filename = str(Path(\"../data/datasets\") / dataset[\"dataset\"])\n",
    "ocel = pm4py.read_ocel(filename)"
   ]
  },
  {
   "cell_type": "code",
   "execution_count": null,
   "metadata": {},
   "outputs": [],
   "source": [
    "pm4py.ocel.ocel_object_type_activities(ocel)"
   ]
  },
  {
   "cell_type": "code",
   "execution_count": null,
   "metadata": {},
   "outputs": [],
   "source": [
    "ocel.log.log"
   ]
  },
  {
   "cell_type": "code",
   "execution_count": null,
   "metadata": {},
   "outputs": [],
   "source": []
  },
  {
   "cell_type": "code",
   "execution_count": null,
   "metadata": {},
   "outputs": [],
   "source": [
    "ocel.object_types"
   ]
  },
  {
   "cell_type": "markdown",
   "metadata": {},
   "source": [
    "## Object types per activity"
   ]
  },
  {
   "cell_type": "code",
   "execution_count": null,
   "metadata": {},
   "outputs": [],
   "source": [
    "act_ot_counts = {act: {f\"num_{ot}\": sum([len([oid for oid in ocel.obj.eve_objects(eid) if ocel.obj.raw.objects[oid].type == ot]) for eid in ocel.obj.act_events(act)]) for ot in ocel.object_types} for act in ocel.obj.activities}\n",
    "act_stats = pd.DataFrame([{\"activity\": act,\n",
    "                           \"frequency\": len(ocel.obj.act_events(act)),\n",
    "                           **act_ot_counts[act]} for act in ocel.obj.activities])\n",
    "act_stats"
   ]
  },
  {
   "cell_type": "markdown",
   "metadata": {},
   "source": [
    "## Object type statistics (per event)"
   ]
  },
  {
   "cell_type": "code",
   "execution_count": null,
   "metadata": {},
   "outputs": [],
   "source": [
    "numobjs_ev = ocel.log.log[ocel.object_types].applymap(len)\n",
    "stats = numobjs_ev.describe().transpose().drop(columns=[\"count\"])\n",
    "stats[\"count\"] = [len(ocel.obj.ot_objects(ot)) for ot in stats.index]\n",
    "stats[\"caseID\"] = (stats[\"min\"] == 1) & (stats[\"max\"] == 1)\n",
    "stats"
   ]
  },
  {
   "cell_type": "code",
   "execution_count": null,
   "metadata": {},
   "outputs": [],
   "source": [
    "print(f\"{len(ocel.process_executions)} Process executions\")"
   ]
  },
  {
   "cell_type": "code",
   "execution_count": null,
   "metadata": {},
   "outputs": [],
   "source": [
    "pex_event_counts = pd.Series([len(ex) for ex in ocel.process_executions])\n",
    "pex_event_counts.describe()"
   ]
  },
  {
   "cell_type": "code",
   "execution_count": null,
   "metadata": {},
   "outputs": [],
   "source": [
    "import matplotlib.pyplot as plt\n",
    "\n",
    "plt.hist(pex_event_counts, bins=100)\n",
    "plt.title(\"Number of events per process execution\")\n",
    "plt.show()"
   ]
  },
  {
   "cell_type": "markdown",
   "metadata": {},
   "source": [
    "# Process Execution Graphs"
   ]
  },
  {
   "cell_type": "code",
   "execution_count": null,
   "metadata": {},
   "outputs": [],
   "source": [
    "G = ocel.get_process_execution_graph(0)"
   ]
  },
  {
   "cell_type": "code",
   "execution_count": null,
   "metadata": {},
   "outputs": [],
   "source": [
    "import networkx as nx"
   ]
  },
  {
   "cell_type": "code",
   "execution_count": null,
   "metadata": {},
   "outputs": [],
   "source": [
    "graphs = [ocel.get_process_execution_graph(i) for i in range(len(ocel.process_executions))]"
   ]
  },
  {
   "cell_type": "code",
   "execution_count": null,
   "metadata": {},
   "outputs": [],
   "source": [
    "gstats = pd.DataFrame([{\"i\": i, \"nodes\": len(G.nodes), \"edges\": len(G.edges)} for i, G in enumerate(graphs)])"
   ]
  },
  {
   "cell_type": "code",
   "execution_count": null,
   "metadata": {},
   "outputs": [],
   "source": [
    "gstats.describe()"
   ]
  },
  {
   "cell_type": "code",
   "execution_count": null,
   "metadata": {},
   "outputs": [],
   "source": [
    "gstats.sort_values(by=\"nodes\")"
   ]
  },
  {
   "cell_type": "code",
   "execution_count": null,
   "metadata": {},
   "outputs": [],
   "source": [
    "G.nodes"
   ]
  },
  {
   "cell_type": "code",
   "execution_count": null,
   "metadata": {},
   "outputs": [],
   "source": [
    "nx.find_cycle(G)"
   ]
  },
  {
   "cell_type": "code",
   "execution_count": null,
   "metadata": {},
   "outputs": [],
   "source": [
    "ocel.log.log.loc[0, \"event_activity\"]"
   ]
  },
  {
   "cell_type": "code",
   "execution_count": null,
   "metadata": {},
   "outputs": [],
   "source": [
    "for event_id, node in G.nodes.items():\n",
    "    node[\"label\"] = ocel.log.log.loc[event_id, \"event_activity\"]"
   ]
  },
  {
   "cell_type": "code",
   "execution_count": null,
   "metadata": {},
   "outputs": [],
   "source": [
    "G.nodes[1]"
   ]
  },
  {
   "cell_type": "code",
   "execution_count": null,
   "metadata": {},
   "outputs": [],
   "source": [
    "nx.draw_networkx(G.subgraph([1, 16, 21, 30]))"
   ]
  },
  {
   "cell_type": "markdown",
   "metadata": {},
   "source": [
    "## Object type statistics (per process execution)"
   ]
  },
  {
   "cell_type": "code",
   "execution_count": null,
   "metadata": {},
   "outputs": [],
   "source": [
    "numobjs_ex = pd.DataFrame([{t: len([o for ot, o in objs if ot == t]) for t in ocel.object_types} for objs in ocel.process_execution_objects])\n",
    "numobjs_ex.describe().transpose()"
   ]
  },
  {
   "cell_type": "code",
   "execution_count": null,
   "metadata": {},
   "outputs": [],
   "source": [
    "ocel.process_execution_objects[200]"
   ]
  },
  {
   "cell_type": "code",
   "execution_count": null,
   "metadata": {},
   "outputs": [],
   "source": [
    "ocel.process_executions[1]"
   ]
  },
  {
   "cell_type": "code",
   "execution_count": null,
   "metadata": {},
   "outputs": [],
   "source": [
    "# https://ocpa.readthedocs.io/en/latest/eventlogmanagement.html\n",
    "num_exec = len(ocel.process_executions)\n",
    "\n",
    "print(f\"Object types: {ocel.object_types}\")\n",
    "print(f\"Number of process executions: {num_exec}\")\n",
    "print(f\"Events of the first process execution: {ocel.process_executions[0]}\")\n",
    "print(f\"Objects of the first process execution: {ocel.process_execution_objects[0]}\")\n",
    "print(f\"Process execution graph of the first execution: {ocel.get_process_execution_graph(0)}\")\n",
    "print(f\"Process execution of the first event with event id 0: {ocel.process_execution_mappings[0]}\")\n",
    "\n",
    "exec_info_data = []\n",
    "for i, (events, objects) in enumerate(zip(ocel.process_executions, ocel.process_execution_objects)):\n",
    "    exec_info_data.append({\n",
    "        \"index\": i,\n",
    "        \"num_events\": len(events),\n",
    "        **{f\"num_{ot}\": len([obj for t, obj in objects if t == ot]) for ot in ocel.object_types}\n",
    "    })\n",
    "\n",
    "exec_info = pd.DataFrame(exec_info_data)\n",
    "display(exec_info)\n",
    "display(exec_info.describe())"
   ]
  },
  {
   "cell_type": "code",
   "execution_count": null,
   "metadata": {},
   "outputs": [],
   "source": [
    "import networkx as nx\n",
    "\n",
    "nx.draw(ocel.get_process_execution_graph(0))"
   ]
  },
  {
   "cell_type": "code",
   "execution_count": null,
   "metadata": {},
   "outputs": [],
   "source": []
  },
  {
   "cell_type": "code",
   "execution_count": null,
   "metadata": {},
   "outputs": [],
   "source": []
  }
 ],
 "metadata": {
  "kernelspec": {
   "display_name": "Python 3 (ipykernel)",
   "language": "python",
   "name": "python3"
  },
  "language_info": {
   "codemirror_mode": {
    "name": "ipython",
    "version": 3
   },
   "file_extension": ".py",
   "mimetype": "text/x-python",
   "name": "python",
   "nbconvert_exporter": "python",
   "pygments_lexer": "ipython3",
   "version": "3.8.16"
  }
 },
 "nbformat": 4,
 "nbformat_minor": 4
}
