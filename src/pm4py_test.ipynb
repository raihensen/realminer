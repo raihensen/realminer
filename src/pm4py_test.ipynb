{
 "cells": [
  {
   "cell_type": "code",
   "execution_count": null,
   "id": "e42668a2",
   "metadata": {},
   "outputs": [],
   "source": [
    "import pandas as pd\n",
    "from pathlib import Path\n",
    "from pprint import pprint"
   ]
  },
  {
   "cell_type": "code",
   "execution_count": null,
   "id": "c1c60367",
   "metadata": {},
   "outputs": [],
   "source": [
    "# from https://ocel-standard.org\n",
    "DATASET_GITHUB = {\"dataset\": \"github_pm4py.jsonocel\", \"leading_type\": \"case:concept:name\"}\n",
    "DATASET_O2C = {\"dataset\": \"o2c.jsonocel\", \"leading_type\": \"BELNR\"} # SAP\n",
    "DATASET_P2P = {\"dataset\": \"p2p.jsonocel\", \"leading_type\": \"BELNR\"} # SAP\n",
    "DATASET_TRANSFER = {\"dataset\": \"transfer_order.jsonocel\", \"leading_type\": \"MATNR\"} # SAP\n",
    "DATASET_RECRUITING = {\"dataset\": \"recruiting.jsonocel\", \"leading_type\": \"applications\"}\n",
    "DATASET_ORDER = {\"dataset\": \"running-example.jsonocel\", \"leading_type\": \"xxx\"}\n",
    "DATASET_WINDOWS = {\"dataset\": \"windows_events.jsonocel\", \"leading_type\": \"eventIdentifier\"}\n",
    "\n",
    "# example dataset from celonis\n",
    "DATASET_CELONIS = {\"dataset\": \"celonis.jsonocel\", \"leading_type\": \"xxx\"}"
   ]
  },
  {
   "cell_type": "code",
   "execution_count": null,
   "id": "ee0d06a0",
   "metadata": {},
   "outputs": [],
   "source": [
    "import pm4py"
   ]
  },
  {
   "cell_type": "code",
   "execution_count": null,
   "id": "6a1c6013",
   "metadata": {},
   "outputs": [],
   "source": [
    "dataset = DATASET_RECRUITING\n",
    "\n",
    "filename = Path(\"../data/datasets\") / dataset[\"dataset\"]\n",
    "\n",
    "ocel = pm4py.read_ocel(str(filename))"
   ]
  },
  {
   "cell_type": "markdown",
   "id": "f700ee89",
   "metadata": {},
   "source": [
    "## Testing"
   ]
  },
  {
   "cell_type": "code",
   "execution_count": null,
   "id": "8690af77",
   "metadata": {},
   "outputs": [],
   "source": [
    "from datetime import datetime\n",
    "import numpy as np"
   ]
  },
  {
   "cell_type": "code",
   "execution_count": null,
   "id": "a297d85c",
   "metadata": {},
   "outputs": [],
   "source": [
    "datetime.fromstr('2020-01-01 00:00:00')"
   ]
  },
  {
   "cell_type": "code",
   "execution_count": null,
   "id": "f037640b",
   "metadata": {},
   "outputs": [],
   "source": [
    "def reduce_event_log(num_events):\n",
    "\n",
    "    events = ocel.events.iloc[:num_events,:].copy()\n",
    "    relations = ocel.relations[ocel.relations['ocel:eid'].isin(events['ocel:eid'])]\n",
    "    objects = ocel.objects[ocel.objects['ocel:oid'].isin(relations['ocel:oid'])]\n",
    "\n",
    "    print(f\"Events: {len(ocel.events)} -> {len(events)} ({len(events)/len(ocel.events):.1%})\")\n",
    "    print(f\"Objects: {len(ocel.objects)} -> {len(objects)} ({len(objects)/len(ocel.objects):.1%})\")\n",
    "\n",
    "    ocel2 = pm4py.ocel.OCEL(events=events, objects=objects, relations=relations)\n",
    "\n",
    "    dataset_name = dataset[\"dataset\"].split(\".\")[0]\n",
    "    filename = f\"../data/datasets/{dataset_name}_{num_events}.jsonocel\"\n",
    "    pm4py.objects.ocel.exporter.jsonocel.exporter.apply(ocel2, filename)\n",
    "\n",
    "    print(f\"Saved to file {filename}\")\n",
    "    \n",
    "# reduce_event_log(num_events=500)"
   ]
  },
  {
   "cell_type": "code",
   "execution_count": null,
   "id": "98c140f1",
   "metadata": {
    "scrolled": true
   },
   "outputs": [],
   "source": []
  },
  {
   "cell_type": "code",
   "execution_count": null,
   "id": "e026cd24",
   "metadata": {
    "scrolled": true
   },
   "outputs": [],
   "source": [
    "start = ocel.events['ocel:timestamp'].min()\n",
    "end = ocel.events['ocel:timestamp'].max()\n",
    "\n",
    "# ocel.events[\"ocel:timestamp\"] = pd.to_datetime(ocel.events[\"ocel:timestamp\"]).dt.datetime\n",
    "bounds_str = ('2020-01-01 00:00:00', '2020-08-31 00:00:00')\n",
    "ybounds = (\"2020\", \"2020\")\n",
    "bounds = np.array(list(bounds_str), dtype='datetime64[ns]')\n",
    "# bounds = (datetime.strptime(x, '%Y-%m-%d %H:%M:%S') for x in bounds_str)\n",
    "ocel2 = pm4py.filter_ocel_events_timestamp(ocel, *bounds)\n"
   ]
  },
  {
   "cell_type": "code",
   "execution_count": null,
   "id": "3f0473c7",
   "metadata": {},
   "outputs": [],
   "source": [
    "start, end"
   ]
  },
  {
   "cell_type": "code",
   "execution_count": null,
   "id": "da156deb",
   "metadata": {},
   "outputs": [],
   "source": [
    "ocel.events[ocel.events[\"ocel:timestamp\"] < \"2020\"]"
   ]
  },
  {
   "cell_type": "markdown",
   "id": "58b24b0c",
   "metadata": {},
   "source": [
    "# Overview of `pm4py` methods"
   ]
  },
  {
   "cell_type": "code",
   "execution_count": null,
   "id": "7627607b",
   "metadata": {},
   "outputs": [],
   "source": [
    "# pm4py.ocel_get_attribute_names(ocel)\n",
    "# pm4py.ocel_get_object_types(ocel) # list[ot]\n",
    "# pm4py.ocel_object_type_activities(ocel) # dict[ot -> set[activities]]\n",
    "# pm4py.ocel_objects_ot_count(ocel) # dict[eid -> Multiset[ot]]\n",
    "# pm4py.ocel_temporal_summary(ocel)"
   ]
  },
  {
   "cell_type": "code",
   "execution_count": null,
   "id": "9fd618c7",
   "metadata": {},
   "outputs": [],
   "source": [
    "# pm4py.ocel_get_attribute_names(ocel)\n",
    "# pm4py.ocel_get_attribute_names(ocel)\n",
    "# pm4py.ocel_get_object_types(ocel) # List[ot]\n",
    "# pm4py.ocel_object_type_activities(ocel) # Dict[ot -> set[activities]]\n",
    "# pm4py.ocel_objects_ot_count(ocel) # Dict[eid -> Dict[ot -> int]]\n",
    "# pm4py.ocel_temporal_summary(ocel) # DataFrame (multiple events aggregated when same timestamp)\n",
    "# pm4py.ocel_flattening(ocel, \"applications\") # flattened DataFrame\n",
    "# pm4py.ocel_objects_summary(ocel) # DataFrame (lifecycle of objects, with interacting objects)"
   ]
  },
  {
   "cell_type": "code",
   "execution_count": null,
   "id": "640f0587",
   "metadata": {},
   "outputs": [],
   "source": [
    "# ocdfg = pm4py.discover_ocdfg(ocel) # Object-centric DFG\n",
    "# ocpn = pm4py.discover_oc_petri_net(ocel) # Object-centric Petri Net"
   ]
  },
  {
   "cell_type": "code",
   "execution_count": null,
   "id": "08261c43",
   "metadata": {},
   "outputs": [],
   "source": [
    "G = pm4py.discover_objects_graph(ocel)"
   ]
  },
  {
   "cell_type": "code",
   "execution_count": null,
   "id": "68093890",
   "metadata": {},
   "outputs": [],
   "source": [
    "ocel.objects"
   ]
  },
  {
   "cell_type": "code",
   "execution_count": null,
   "id": "500ad583",
   "metadata": {},
   "outputs": [],
   "source": [
    "len(G)"
   ]
  },
  {
   "cell_type": "code",
   "execution_count": null,
   "id": "1f3d5271",
   "metadata": {},
   "outputs": [],
   "source": [
    "import networkx as nx"
   ]
  },
  {
   "cell_type": "code",
   "execution_count": null,
   "id": "201ab7dd",
   "metadata": {},
   "outputs": [],
   "source": [
    "og = nx.DiGraph()\n",
    "og.add_nodes_from(ocel.objects[\"ocel:oid\"])"
   ]
  },
  {
   "cell_type": "code",
   "execution_count": null,
   "id": "9e5796ed",
   "metadata": {},
   "outputs": [],
   "source": []
  },
  {
   "cell_type": "code",
   "execution_count": null,
   "id": "09388b2d",
   "metadata": {},
   "outputs": [],
   "source": [
    "nx.draw(og)"
   ]
  },
  {
   "cell_type": "markdown",
   "id": "c14434c8",
   "metadata": {},
   "source": [
    "# Object-centric Petri Net"
   ]
  },
  {
   "cell_type": "code",
   "execution_count": null,
   "id": "813af4d8",
   "metadata": {},
   "outputs": [],
   "source": [
    "model = pm4py.discover_oc_petri_net(ocel)"
   ]
  },
  {
   "cell_type": "code",
   "execution_count": null,
   "id": "c1c1fa0f",
   "metadata": {},
   "outputs": [],
   "source": [
    "pm4py.view_ocpn(model, format=\"png\")"
   ]
  },
  {
   "cell_type": "code",
   "execution_count": null,
   "id": "664b9dc6",
   "metadata": {},
   "outputs": [],
   "source": []
  },
  {
   "cell_type": "code",
   "execution_count": null,
   "id": "04b06344",
   "metadata": {
    "scrolled": true
   },
   "outputs": [],
   "source": [
    "ocel.get_extended_table()"
   ]
  },
  {
   "cell_type": "code",
   "execution_count": null,
   "id": "9bed0880",
   "metadata": {
    "scrolled": true
   },
   "outputs": [],
   "source": [
    "ocdfg = pm4py.discover_ocdfg(ocel)"
   ]
  },
  {
   "cell_type": "code",
   "execution_count": null,
   "id": "794b6e12",
   "metadata": {
    "scrolled": true
   },
   "outputs": [],
   "source": [
    "pm4py.view_ocdfg(ocdfg, format=\"png\")"
   ]
  },
  {
   "cell_type": "markdown",
   "id": "d36487b3",
   "metadata": {},
   "source": [
    "## Object types per activity"
   ]
  },
  {
   "cell_type": "code",
   "execution_count": null,
   "id": "a2088205",
   "metadata": {},
   "outputs": [],
   "source": [
    "# act_ot_counts = {act: {f\"num_{ot}\": sum([len([oid for oid in ocel.obj.eve_objects(eid) if ocel.obj.raw.objects[oid].type == ot]) for eid in ocel.obj.act_events(act)]) for ot in ocel.object_types} for act in ocel.obj.activities}\n",
    "# act_stats = pd.DataFrame([{\"activity\": act,\n",
    "#                            \"frequency\": len(ocel.obj.act_events(act)),\n",
    "#                            **act_ot_counts[act]} for act in ocel.obj.activities])\n",
    "# act_stats"
   ]
  },
  {
   "cell_type": "markdown",
   "id": "cb9e0142",
   "metadata": {},
   "source": [
    "## Object type statistics (per event)"
   ]
  },
  {
   "cell_type": "code",
   "execution_count": null,
   "id": "cbe60181",
   "metadata": {
    "scrolled": false
   },
   "outputs": [],
   "source": [
    "# numobjs_ev = ocel.log.log[ocel.object_types].applymap(len)\n",
    "# stats = numobjs_ev.describe().transpose().drop(columns=[\"count\"])\n",
    "# stats[\"count\"] = [len(ocel.obj.ot_objects(ot)) for ot in stats.index]\n",
    "# stats[\"caseID\"] = (stats[\"min\"] == 1) & (stats[\"max\"] == 1)\n",
    "# stats"
   ]
  },
  {
   "cell_type": "code",
   "execution_count": null,
   "id": "f9f295d9",
   "metadata": {},
   "outputs": [],
   "source": [
    "# print(f\"{len(ocel.process_executions)} Process executions\")"
   ]
  },
  {
   "cell_type": "code",
   "execution_count": null,
   "id": "eb8d8a5a",
   "metadata": {},
   "outputs": [],
   "source": [
    "# pex_event_counts = pd.Series([len(ex) for ex in ocel.process_executions])\n",
    "# pex_event_counts.describe()"
   ]
  },
  {
   "cell_type": "code",
   "execution_count": null,
   "id": "4fa4c667",
   "metadata": {},
   "outputs": [],
   "source": [
    "# import matplotlib.pyplot as plt\n",
    "\n",
    "# plt.hist(pex_event_counts, bins=100)\n",
    "# plt.title(\"Number of events per process execution\")\n",
    "# plt.show()"
   ]
  }
 ],
 "metadata": {
  "kernelspec": {
   "display_name": "Python 3 (ipykernel)",
   "language": "python",
   "name": "python3"
  },
  "language_info": {
   "codemirror_mode": {
    "name": "ipython",
    "version": 3
   },
   "file_extension": ".py",
   "mimetype": "text/x-python",
   "name": "python",
   "nbconvert_exporter": "python",
   "pygments_lexer": "ipython3",
   "version": "3.8.16"
  }
 },
 "nbformat": 4,
 "nbformat_minor": 5
}
